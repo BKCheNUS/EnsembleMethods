{
 "cells": [
  {
   "cell_type": "code",
   "execution_count": 9,
   "metadata": {},
   "outputs": [],
   "source": [
    "import torch\n",
    "import numpy as np\n",
    "import torchvision\n",
    "import torchvision.datasets as datasets\n",
    "import pandas as pd\n",
    "import torchvision.transforms as transforms\n",
    "from torch.utils.data.sampler import SubsetRandomSampler\n",
    "import torch.nn.functional as F\n",
    "import torch.nn as nn\n",
    "import torch.optim as optim\n",
    "import matplotlib.pyplot as plt\n",
    "import sklearn as sk\n",
    "import random\n",
    "\n",
    "random.seed(1)"
   ]
  },
  {
   "cell_type": "code",
   "execution_count": 10,
   "metadata": {},
   "outputs": [
    {
     "name": "stdout",
     "output_type": "stream",
     "text": [
      "Files already downloaded and verified\n",
      "Files already downloaded and verified\n"
     ]
    }
   ],
   "source": [
    "transform = transforms.Compose([transforms.ToTensor(),transforms.Normalize((0.5, 0.5, 0.5), (0.5, 0.5, 0.5))])\n",
    "\n",
    "trainset = torchvision.datasets.CIFAR10(root='./data', train=True,\n",
    "                                        download=True, transform=transform)\n",
    "\n",
    "\n",
    "testset = torchvision.datasets.CIFAR10(root='./data', train=False,\n",
    "                                       download=True, transform=transform)\n",
    "\n",
    "classes = ('plane', 'car', 'bird', 'cat',\n",
    "           'deer', 'dog', 'frog', 'horse', 'ship', 'truck')"
   ]
  },
  {
   "cell_type": "code",
   "execution_count": 11,
   "metadata": {},
   "outputs": [
    {
     "name": "stdout",
     "output_type": "stream",
     "text": [
      "50000 10000\n"
     ]
    }
   ],
   "source": [
    "train_len = len(trainset)\n",
    "test_len = len(testset)\n",
    "index = list(range(train_len))\n",
    "print(train_len, test_len)"
   ]
  },
  {
   "cell_type": "code",
   "execution_count": 12,
   "metadata": {},
   "outputs": [],
   "source": [
    "#construct validation set (lets use 10 percent)\n",
    "np.random.shuffle(index)\n",
    "#number of blocks of data\n",
    "split = int(0.4 * train_len)\n",
    "set1_index = index[0:split]\n",
    "set2_index = index[split:2*split]\n",
    "val_index = index[2*split:]\n",
    "#Need to use a dataloader to control batch size and also enable SGD\n",
    "set1_loader = torch.utils.data.DataLoader(trainset, sampler = set1_index, batch_size = 10, num_workers = 10)\n",
    "set2_loader = torch.utils.data.DataLoader(trainset, sampler = set2_index, batch_size = 10, num_workers = 10)\n",
    "val_loader = torch.utils.data.DataLoader(trainset, sampler = val_index,batch_size = 10, num_workers = 10)\n",
    "test_loader = torch.utils.data.DataLoader(testset)\n",
    "index2 = list(range(test_len))\n",
    "np.random.shuffle(index2)\n",
    "split2 = int(0.1 * test_len)\n",
    "test_index = index2[0:split2]\n",
    "test_loader = torch.utils.data.DataLoader(testset, sampler = test_index)"
   ]
  },
  {
   "cell_type": "code",
   "execution_count": 13,
   "metadata": {},
   "outputs": [
    {
     "name": "stdout",
     "output_type": "stream",
     "text": [
      "20000\n",
      "20000\n",
      "1000\n"
     ]
    }
   ],
   "source": [
    "print(len(set1_index))\n",
    "print(len(set2_index))\n",
    "print(len(test_index))"
   ]
  },
  {
   "cell_type": "code",
   "execution_count": 14,
   "metadata": {},
   "outputs": [
    {
     "name": "stdout",
     "output_type": "stream",
     "text": [
      "10000\n",
      "10000\n",
      "300\n"
     ]
    }
   ],
   "source": [
    "#dataset only for testing don't run this piece of code if it's not necessary\n",
    "split = int(0.2*train_len)\n",
    "set1_index = index[0:split]\n",
    "set2_index = index[split:2*split]\n",
    "val_index = index[2*split:3*split]\n",
    "index2 = list(range(test_len))\n",
    "np.random.shuffle(index2)\n",
    "split2 = int(0.03 * test_len)\n",
    "test_index = index2[0:split2]\n",
    "print(len(set1_index))\n",
    "print(len(set2_index))\n",
    "print(len(test_index))\n",
    "set1_loader = torch.utils.data.DataLoader(trainset, sampler = set1_index, batch_size = 10, num_workers = 10)\n",
    "set2_loader = torch.utils.data.DataLoader(trainset, sampler = set2_index, batch_size = 10, num_workers = 10)\n",
    "val_loader = torch.utils.data.DataLoader(trainset, sampler = val_index, batch_size = 10, num_workers = 10)\n",
    "test_loader = torch.utils.data.DataLoader(testset, sampler = test_index)"
   ]
  },
  {
   "cell_type": "code",
   "execution_count": 15,
   "metadata": {},
   "outputs": [
    {
     "name": "stdout",
     "output_type": "stream",
     "text": [
      "1000\n",
      "1000\n",
      "300\n"
     ]
    }
   ],
   "source": [
    "#dataset only for testing don't run this piece of code if it's not necessary\n",
    "split = int(0.02*train_len)\n",
    "set1_index = index[0:split]\n",
    "set2_index = index[split:2*split]\n",
    "val_index = index[2*split:3*split]\n",
    "index2 = list(range(test_len))\n",
    "np.random.shuffle(index2)\n",
    "split2 = int(0.03 * test_len)\n",
    "test_index = index2[0:split2]\n",
    "print(len(set1_index))\n",
    "print(len(set2_index))\n",
    "print(len(test_index))\n",
    "set1_loader = torch.utils.data.DataLoader(trainset, sampler = set1_index, batch_size = 10, num_workers = 10)\n",
    "set2_loader = torch.utils.data.DataLoader(trainset, sampler = set2_index, batch_size = 10, num_workers = 10)\n",
    "val_loader = torch.utils.data.DataLoader(trainset, sampler = val_index, batch_size = 10, num_workers = 10)\n",
    "test_loader = torch.utils.data.DataLoader(testset, sampler = test_index)"
   ]
  },
  {
   "cell_type": "code",
   "execution_count": 16,
   "metadata": {},
   "outputs": [],
   "source": [
    "set1dataiter = iter(set1_loader)\n",
    "set1images, set1labels = set1dataiter.next()\n",
    "set2dataiter = iter(set2_loader)\n",
    "set2images, set2labels = set2dataiter.next()\n",
    "valdataiter = iter(val_loader)\n",
    "valimages, vallabels = valdataiter.next()"
   ]
  },
  {
   "cell_type": "code",
   "execution_count": 17,
   "metadata": {},
   "outputs": [],
   "source": [
    "class CNNBlock1(nn.Module):\n",
    "    def __init__(self):\n",
    "        super(CNNBlock1, self).__init__()\n",
    "        self.conv1 = nn.Conv2d(3, 16, kernel_size = 3, padding = 1)\n",
    "        self.conv2 = nn.Conv2d(16, 32, kernel_size = 3)\n",
    "    \n",
    "    def forward(self, x):\n",
    "        x = F.relu(self.conv1(x))\n",
    "        x = F.relu(F.max_pool2d(self.conv2(x),2))\n",
    "        return x\n",
    "cnnblock1 = CNNBlock1()"
   ]
  },
  {
   "cell_type": "code",
   "execution_count": 18,
   "metadata": {},
   "outputs": [],
   "source": [
    "class CNNBlock2(nn.Module):\n",
    "    def __init__(self):\n",
    "        super(CNNBlock2, self).__init__()\n",
    "        self.conv3 = nn.Conv2d(32, 64, kernel_size = 3, padding = 1)\n",
    "        self.conv4 = nn.Conv2d(64, 128, kernel_size = 4, padding = 1)\n",
    "    \n",
    "    def forward(self, x):\n",
    "        x = F.relu(self.conv3(x))\n",
    "        x = F.relu(F.max_pool2d(self.conv4(x),2))\n",
    "        return x\n",
    "cnnblock2 = CNNBlock2()"
   ]
  },
  {
   "cell_type": "code",
   "execution_count": 19,
   "metadata": {},
   "outputs": [],
   "source": [
    "class CNNBlock3(nn.Module):\n",
    "    def __init__(self):\n",
    "        super(CNNBlock3, self).__init__()\n",
    "        self.conv5 = nn.Conv2d(128, 128, kernel_size = 3, padding = 1)\n",
    "        self.conv6 = nn.Conv2d(128, 256, kernel_size = 2)\n",
    "    \n",
    "    def forward(self, x):\n",
    "        x = F.relu(self.conv5(x))\n",
    "        x = F.relu(self.conv6(x))\n",
    "        return x\n",
    "cnnblock3 = CNNBlock3()"
   ]
  },
  {
   "cell_type": "code",
   "execution_count": 20,
   "metadata": {},
   "outputs": [],
   "source": [
    "class MLPBlock1(nn.Module):\n",
    "    def __init__(self):\n",
    "        super(MLPBlock1, self).__init__()\n",
    "        self.fc1 = nn.Linear(15*15*32, 256)\n",
    "        self.fc2 = nn.Linear(256, 64)\n",
    "        self.fc3 = nn.Linear(64, 10)\n",
    "    \n",
    "    def forward(self, x):\n",
    "        x = x.view(-1, 15*15*32)\n",
    "        x = F.relu(self.fc1(x))\n",
    "        x = F.relu(self.fc2(x))\n",
    "        x = self.fc3(x)\n",
    "        return x\n",
    "mlpblock1 = MLPBlock1()"
   ]
  },
  {
   "cell_type": "code",
   "execution_count": 21,
   "metadata": {},
   "outputs": [],
   "source": [
    "class MLPBlock2(nn.Module):\n",
    "    def __init__(self):\n",
    "        super(MLPBlock2, self).__init__()\n",
    "        self.fc4 = nn.Linear(7*7*128, 256)\n",
    "        self.fc5 = nn.Linear(256, 64)\n",
    "        self.fc6 = nn.Linear(64,10)\n",
    "    \n",
    "    def forward(self, x):\n",
    "        x = x.view(-1, 7*7*128)\n",
    "        x = F.relu(self.fc4(x))\n",
    "        x = F.relu(self.fc5(x))\n",
    "        x = self.fc6(x)\n",
    "        return x\n",
    "mlpblock2 = MLPBlock2()"
   ]
  },
  {
   "cell_type": "code",
   "execution_count": 22,
   "metadata": {},
   "outputs": [],
   "source": [
    "class MLPBlock3(nn.Module):\n",
    "    def __init__(self):\n",
    "        super(MLPBlock3, self).__init__()\n",
    "        self.fc7 = nn.Linear(6*6*256, 256)\n",
    "        self.fc8 = nn.Linear(256, 64)\n",
    "        self.fc9 = nn.Linear(64, 10)\n",
    "    \n",
    "    def forward(self, x):\n",
    "        x = x.view(-1, 6*6*256)\n",
    "        x = F.relu(self.fc7(x))\n",
    "        x = F.relu(self.fc8(x))\n",
    "        x = self.fc9(x)\n",
    "        return x\n",
    "mlpblock3 = MLPBlock3()"
   ]
  },
  {
   "cell_type": "code",
   "execution_count": 23,
   "metadata": {},
   "outputs": [],
   "source": [
    "class EnsembleModel(nn.Module):\n",
    "    def __init__(self):\n",
    "        super(EnsembleModel, self).__init__()\n",
    "        self.cnnblock1 = cnnblock1\n",
    "        self.cnnblock2 = cnnblock2\n",
    "        self.cnnblock3 = cnnblock3\n",
    "        self.mlpblock1 = mlpblock1\n",
    "        self.mlpblock2 = mlpblock2\n",
    "        self.mlpblock3 = mlpblock3\n",
    "    \n",
    "    def forward(self, x):\n",
    "        x1 = self.cnnblock1(x)\n",
    "        x2 = self.cnnblock2(x1)\n",
    "        x3 = self.cnnblock3(x2)\n",
    "        x4 = self.mlpblock1(x1)\n",
    "        x5 = self.mlpblock2(x2)\n",
    "        x6 = self.mlpblock3(x3)\n",
    "        x7 = x4 + x5 + x6\n",
    "        return F.log_softmax(x7, dim=1)\n",
    "\n",
    "ensemblemodel = EnsembleModel()"
   ]
  },
  {
   "cell_type": "code",
   "execution_count": 24,
   "metadata": {},
   "outputs": [],
   "source": [
    "optimizer = optim.SGD(ensemblemodel.parameters(), lr = 0.05)"
   ]
  },
  {
   "cell_type": "code",
   "execution_count": 25,
   "metadata": {},
   "outputs": [],
   "source": [
    "criterion = nn.CrossEntropyLoss()"
   ]
  },
  {
   "cell_type": "code",
   "execution_count": 26,
   "metadata": {},
   "outputs": [
    {
     "name": "stdout",
     "output_type": "stream",
     "text": [
      "[1,  100] training loss: 2.305\n",
      "[1,  100] validation loss: 2.295\n",
      "\n",
      "Model Accuracy = 0.08666666666666667\n",
      "[2,  100] training loss: 2.290\n",
      "[2,  100] validation loss: 2.282\n",
      "\n",
      "Model Accuracy = 0.11333333333333333\n",
      "[3,  100] training loss: 2.213\n",
      "[3,  100] validation loss: 2.173\n",
      "\n",
      "Model Accuracy = 0.19333333333333333\n",
      "[4,  100] training loss: 2.106\n",
      "[4,  100] validation loss: 2.067\n",
      "\n",
      "Model Accuracy = 0.26666666666666666\n",
      "[5,  100] training loss: 2.038\n",
      "[5,  100] validation loss: 2.015\n",
      "\n",
      "Model Accuracy = 0.27666666666666667\n",
      "[6,  100] training loss: 1.995\n",
      "[6,  100] validation loss: 1.961\n",
      "\n",
      "Model Accuracy = 0.30666666666666664\n",
      "[7,  100] training loss: 1.927\n",
      "[7,  100] validation loss: 1.937\n",
      "\n",
      "Model Accuracy = 0.29\n",
      "[8,  100] training loss: 1.942\n",
      "[8,  100] validation loss: 1.910\n",
      "\n",
      "Model Accuracy = 0.30333333333333334\n",
      "[9,  100] training loss: 1.853\n",
      "[9,  100] validation loss: 1.894\n",
      "\n",
      "Model Accuracy = 0.30333333333333334\n",
      "[10,  100] training loss: 1.909\n",
      "[10,  100] validation loss: 1.866\n",
      "\n",
      "Model Accuracy = 0.33666666666666667\n",
      "[11,  100] training loss: 1.773\n",
      "[11,  100] validation loss: 1.894\n",
      "\n",
      "Model Accuracy = 0.3\n",
      "[12,  100] training loss: 1.911\n",
      "[12,  100] validation loss: 1.871\n",
      "\n",
      "Model Accuracy = 0.2866666666666667\n",
      "[13,  100] training loss: 1.669\n",
      "[13,  100] validation loss: 1.883\n",
      "\n",
      "Model Accuracy = 0.2866666666666667\n",
      "[14,  100] training loss: 1.891\n",
      "[14,  100] validation loss: 1.863\n",
      "\n",
      "Model Accuracy = 0.27666666666666667\n",
      "[15,  100] training loss: 1.557\n",
      "[15,  100] validation loss: 1.882\n",
      "\n",
      "Model Accuracy = 0.3\n",
      "[16,  100] training loss: 1.857\n",
      "[16,  100] validation loss: 1.845\n",
      "\n",
      "Model Accuracy = 0.31\n",
      "[17,  100] training loss: 1.441\n",
      "[17,  100] validation loss: 1.894\n",
      "\n",
      "Model Accuracy = 0.32666666666666666\n",
      "[18,  100] training loss: 1.816\n",
      "[18,  100] validation loss: 1.847\n",
      "\n",
      "Model Accuracy = 0.3233333333333333\n",
      "[19,  100] training loss: 1.355\n",
      "[19,  100] validation loss: 1.861\n",
      "\n",
      "Model Accuracy = 0.39\n",
      "[20,  100] training loss: 1.803\n",
      "[20,  100] validation loss: 1.908\n",
      "\n",
      "Model Accuracy = 0.31666666666666665\n",
      "[21,  100] training loss: 1.316\n",
      "[21,  100] validation loss: 1.737\n",
      "\n",
      "Model Accuracy = 0.34\n",
      "[22,  100] training loss: 1.768\n",
      "[22,  100] validation loss: 1.842\n",
      "\n",
      "Model Accuracy = 0.32\n",
      "[23,  100] training loss: 1.241\n",
      "[23,  100] validation loss: 1.905\n",
      "\n",
      "Model Accuracy = 0.35333333333333333\n",
      "[24,  100] training loss: 1.799\n",
      "[24,  100] validation loss: 1.843\n",
      "\n",
      "Model Accuracy = 0.36666666666666664\n",
      "[25,  100] training loss: 1.191\n",
      "[25,  100] validation loss: 1.903\n",
      "\n",
      "Model Accuracy = 0.32\n",
      "[26,  100] training loss: 1.834\n",
      "[26,  100] validation loss: 1.924\n",
      "\n",
      "Model Accuracy = 0.31333333333333335\n",
      "[27,  100] training loss: 1.133\n",
      "[27,  100] validation loss: 1.850\n",
      "\n",
      "Model Accuracy = 0.36666666666666664\n",
      "[28,  100] training loss: 1.856\n",
      "[28,  100] validation loss: 1.848\n",
      "\n",
      "Model Accuracy = 0.3466666666666667\n",
      "[29,  100] training loss: 1.075\n",
      "[29,  100] validation loss: 1.825\n",
      "\n",
      "Model Accuracy = 0.38666666666666666\n",
      "[30,  100] training loss: 1.860\n",
      "[30,  100] validation loss: 1.886\n",
      "\n",
      "Model Accuracy = 0.35333333333333333\n",
      "[31,  100] training loss: 0.990\n",
      "[31,  100] validation loss: 1.883\n",
      "\n",
      "Model Accuracy = 0.38666666666666666\n",
      "[32,  100] training loss: 1.817\n",
      "[32,  100] validation loss: 1.909\n",
      "\n",
      "Model Accuracy = 0.36666666666666664\n",
      "[33,  100] training loss: 1.173\n",
      "[33,  100] validation loss: 1.862\n",
      "\n",
      "Model Accuracy = 0.3433333333333333\n",
      "[34,  100] training loss: 1.855\n",
      "[34,  100] validation loss: 1.869\n",
      "\n",
      "Model Accuracy = 0.38\n",
      "[35,  100] training loss: 1.513\n",
      "[35,  100] validation loss: 1.926\n",
      "\n",
      "Model Accuracy = 0.32666666666666666\n",
      "[36,  100] training loss: 1.840\n",
      "[36,  100] validation loss: 1.817\n",
      "\n",
      "Model Accuracy = 0.39\n",
      "[37,  100] training loss: 1.649\n",
      "[37,  100] validation loss: 1.864\n",
      "\n",
      "Model Accuracy = 0.34\n",
      "[38,  100] training loss: 1.797\n",
      "[38,  100] validation loss: 2.042\n",
      "\n",
      "Model Accuracy = 0.31666666666666665\n",
      "[39,  100] training loss: 1.876\n",
      "[39,  100] validation loss: 1.969\n",
      "\n",
      "Model Accuracy = 0.32\n",
      "[40,  100] training loss: 1.911\n",
      "[40,  100] validation loss: 1.908\n",
      "\n",
      "Model Accuracy = 0.37333333333333335\n",
      "[41,  100] training loss: 1.397\n",
      "[41,  100] validation loss: 1.830\n",
      "\n",
      "Model Accuracy = 0.36\n",
      "[42,  100] training loss: 1.812\n",
      "[42,  100] validation loss: 1.834\n",
      "\n",
      "Model Accuracy = 0.35333333333333333\n",
      "[43,  100] training loss: 1.069\n",
      "[43,  100] validation loss: 2.017\n",
      "\n",
      "Model Accuracy = 0.36\n",
      "[44,  100] training loss: 1.781\n",
      "[44,  100] validation loss: 1.851\n",
      "\n",
      "Model Accuracy = 0.3566666666666667\n",
      "[45,  100] training loss: 1.747\n",
      "[45,  100] validation loss: 2.028\n",
      "\n",
      "Model Accuracy = 0.30666666666666664\n",
      "[46,  100] training loss: 1.817\n",
      "[46,  100] validation loss: 1.862\n",
      "\n",
      "Model Accuracy = 0.3433333333333333\n",
      "[47,  100] training loss: 1.091\n",
      "[47,  100] validation loss: 1.897\n",
      "\n",
      "Model Accuracy = 0.35\n",
      "[48,  100] training loss: 1.732\n",
      "[48,  100] validation loss: 1.793\n",
      "\n",
      "Model Accuracy = 0.36333333333333334\n",
      "[49,  100] training loss: 1.435\n",
      "[49,  100] validation loss: 2.022\n",
      "\n",
      "Model Accuracy = 0.3333333333333333\n",
      "[50,  100] training loss: 1.716\n",
      "[50,  100] validation loss: 1.868\n",
      "\n",
      "Model Accuracy = 0.39\n",
      "[51,  100] training loss: 1.711\n",
      "[51,  100] validation loss: 2.018\n",
      "\n",
      "Model Accuracy = 0.31333333333333335\n",
      "Finished Training\n",
      "[2.30496541261673, 2.2132360422611237, 2.038103606700897, 1.9269544208049774, 1.8534944760799408, 1.7733643805980683, 1.669316167831421, 1.557045307159424, 1.4405820381641388, 1.3552888494729995, 1.316178840994835, 1.2405146545171737, 1.19057581782341, 1.133329954147339, 1.075378687977791, 0.9903799697756768, 1.1729242581129073, 1.512992542386055, 1.6485792058706283, 1.8762793064117431, 1.3970220381021499, 1.069365509748459, 1.7471438598632814, 1.0914044988155365, 1.4350484561920167, 1.7105332225561143]\n",
      "[2.30496541261673, 2.289768123626709, 2.2132360422611237, 2.106378734111786, 2.038103606700897, 1.9947875344753265, 1.9269544208049774, 1.941539556980133, 1.8534944760799408, 1.909287781715393, 1.7733643805980683, 1.9112824487686157, 1.669316167831421, 1.8907318651676177, 1.557045307159424, 1.856857385635376, 1.4405820381641388, 1.8161734998226167, 1.3552888494729995, 1.8026968449354173, 1.316178840994835, 1.7678203940391541, 1.2405146545171737, 1.7994092410802842, 1.19057581782341, 1.833960809111595, 1.133329954147339, 1.8564832359552383, 1.075378687977791, 1.8600700044631957, 0.9903799697756768, 1.8169688081741333, 1.1729242581129073, 1.854603006839752, 1.512992542386055, 1.840288405418396, 1.6485792058706283, 1.79675963640213, 1.8762793064117431, 1.91119185090065, 1.3970220381021499, 1.8116270220279693, 1.069365509748459, 1.7814280861616134, 1.7471438598632814, 1.8172645723819734, 1.0914044988155365, 1.732315262556076, 1.4350484561920167, 1.716111451983452, 1.7105332225561143]\n",
      "[2.2954131054878233, 2.281870186328888, 2.173243820667267, 2.0672119426727296, 2.015251830816269, 1.9611792612075805, 1.936789209842682, 1.910357586145401, 1.893823869228363, 1.8661103713512421, 1.8939206528663635, 1.8710334384441376, 1.883259780406952, 1.8632951259613038, 1.8823586916923523, 1.8450123047828675, 1.8942951333522797, 1.8468688881397248, 1.8614765524864196, 1.907736657857895, 1.736518201828003, 1.8417896831035614, 1.9051363795995713, 1.8433944880962372, 1.9033609455823899, 1.923626401424408, 1.8504037582874298, 1.847900357246399, 1.8247394466400146, 1.8863061767816545, 1.8828733742237092, 1.9094220888614655, 1.8622332036495208, 1.8689607292413712, 1.9264494794607163, 1.8170348012447357, 1.864415510892868, 2.04193745970726, 1.969201729297638, 1.908483736515045, 1.8301949495077132, 1.8342432004213334, 2.0172250497341158, 1.8505633902549743, 2.0283903706073763, 1.8616425395011902, 1.8965049439668655, 1.7933913564682007, 2.0222137784957885, 1.8679963058233262, 2.0180064791440966]\n",
      "[0.08666666666666667, 0.11333333333333333, 0.19333333333333333, 0.26666666666666666, 0.27666666666666667, 0.30666666666666664, 0.29, 0.30333333333333334, 0.30333333333333334, 0.33666666666666667, 0.3, 0.2866666666666667, 0.2866666666666667, 0.27666666666666667, 0.3, 0.31, 0.32666666666666666, 0.3233333333333333, 0.39, 0.31666666666666665, 0.34, 0.32, 0.35333333333333333, 0.36666666666666664, 0.32, 0.31333333333333335, 0.36666666666666664, 0.3466666666666667, 0.38666666666666666, 0.35333333333333333, 0.38666666666666666, 0.36666666666666664, 0.3433333333333333, 0.38, 0.32666666666666666, 0.39, 0.34, 0.31666666666666665, 0.32, 0.37333333333333335, 0.36, 0.35333333333333333, 0.36, 0.3566666666666667, 0.30666666666666664, 0.3433333333333333, 0.35, 0.36333333333333334, 0.3333333333333333, 0.39, 0.31333333333333335]\n"
     ]
    }
   ],
   "source": [
    "trainingloss = []\n",
    "trainingloss_noisy = []\n",
    "validationloss = []\n",
    "testaccuracy = []\n",
    "for epoch in range(51):\n",
    "\n",
    "    if epoch % 2 == 0:\n",
    "        for param in cnnblock1.parameters():\n",
    "            param.requires_grad_(False)\n",
    "        \n",
    "        for param in cnnblock2.parameters():\n",
    "            param.requires_grad_(False)\n",
    "        \n",
    "        for param in cnnblock3.parameters():\n",
    "            param.requires_grad_(False)\n",
    "        \n",
    "        for param in mlpblock1.parameters():\n",
    "            param.requires_grad_(True)\n",
    "            \n",
    "        for param in mlpblock2.parameters():\n",
    "            param.requires_grad_(True)\n",
    "            \n",
    "        for param in mlpblock3.parameters():\n",
    "            param.requires_grad_(True)\n",
    "        \n",
    "        running_loss = 0.0\n",
    "        for i, data in enumerate(set2_loader,0):\n",
    "            inputs, set2labels = data\n",
    "            \n",
    "            optimizer.zero_grad()\n",
    "            \n",
    "            outputs = ensemblemodel(inputs)\n",
    "            loss = criterion(outputs, set2labels)\n",
    "            loss.backward()\n",
    "            optimizer.step()\n",
    "            \n",
    "            #print stats\n",
    "            running_loss += loss.item()\n",
    "            if i%100 == 99:\n",
    "                print('[%d,%5d] training loss: %.3f' % (epoch+1, i + 1, running_loss / 100))\n",
    "                trainingloss.append(running_loss/100)\n",
    "                trainingloss_noisy.append(running_loss/100)\n",
    "                running_loss = 0.0\n",
    "                \n",
    "                \n",
    "    else:\n",
    "        for param in cnnblock1.parameters():\n",
    "            param.requires_grad_(True)\n",
    "        \n",
    "        for param in cnnblock2.parameters():\n",
    "            param.requires_grad_(True)\n",
    "        \n",
    "        for param in cnnblock3.parameters():\n",
    "            param.requires_grad_(True)\n",
    "        \n",
    "        for param in mlpblock1.parameters():\n",
    "            param.requires_grad_(False)\n",
    "            \n",
    "        for param in mlpblock2.parameters():\n",
    "            param.requires_grad_(False)\n",
    "            \n",
    "        for param in mlpblock3.parameters():\n",
    "            param.requires_grad_(False)\n",
    "        \n",
    "        running_loss = 0.0\n",
    "        \n",
    "        for i, data in enumerate(set1_loader,0):\n",
    "            inputs, set1labels = data\n",
    "            \n",
    "            optimizer.zero_grad()\n",
    "            \n",
    "            outputs = ensemblemodel(inputs)\n",
    "            loss = criterion(outputs, set1labels)\n",
    "            loss.backward()\n",
    "            optimizer.step()\n",
    "            \n",
    "            #print stats\n",
    "            running_loss += loss.item()\n",
    "            if i%100 == 99:\n",
    "                print('[%d,%5d] training loss: %.3f' % (epoch+1, i + 1, running_loss / 100))\n",
    "                trainingloss_noisy.append(running_loss/100)\n",
    "                running_loss = 0.0\n",
    "                \n",
    "\n",
    "    running_loss2 = 0.0\n",
    "    \n",
    "    for i, data in enumerate(val_loader):\n",
    "            inputs,vallabels = data\n",
    "            outputs = ensemblemodel(inputs)\n",
    "            lloss = criterion(outputs, vallabels)\n",
    "            \n",
    "            running_loss2 += lloss.item()\n",
    "            if i%100 == 99:\n",
    "                print('[%d,%5d] validation loss: %.3f' % (epoch+1, i + 1, running_loss2 / 100))\n",
    "                validationloss.append(running_loss2/100)\n",
    "                running_loss2 = 0.0\n",
    "                \n",
    "                \n",
    "    correct_count, all_count = 0, 0\n",
    "    for inp,labels in test_loader:\n",
    "      for i in range(len(labels)):\n",
    "        with torch.no_grad():\n",
    "            logps = ensemblemodel(inp)\n",
    "\n",
    "    \n",
    "        ps = torch.exp(logps)\n",
    "        probab = list(ps.numpy()[0])\n",
    "        pred_label = probab.index(max(probab))\n",
    "        true_label = labels.numpy()[i]\n",
    "        if(true_label == pred_label):\n",
    "          correct_count += 1\n",
    "        all_count += 1\n",
    "\n",
    "    print(\"\\nModel Accuracy =\", (correct_count/all_count))\n",
    "    testaccuracy.append(correct_count/all_count)\n",
    "                \n",
    "                \n",
    "print('Finished Training')\n",
    "print(trainingloss)\n",
    "print(trainingloss_noisy)\n",
    "print(validationloss)\n",
    "print(testaccuracy)"
   ]
  },
  {
   "cell_type": "code",
   "execution_count": 18,
   "metadata": {},
   "outputs": [
    {
     "data": {
      "image/png": "[encoded data removed]",
      "text/plain": [
       "<Figure size 432x288 with 1 Axes>"
      ]
     },
     "metadata": {
      "needs_background": "light"
     },
     "output_type": "display_data"
    }
   ],
   "source": [
    "plt.plot(trainingloss)\n",
    "plt.savefig('medium_param_l_t.png')"
   ]
  },
  {
   "cell_type": "code",
   "execution_count": 19,
   "metadata": {},
   "outputs": [
    {
     "data": {
      "text/plain": [
       "[<matplotlib.lines.Line2D at 0x7f36c855ad50>]"
      ]
     },
     "execution_count": 19,
     "metadata": {},
     "output_type": "execute_result"
    },
    {
     "data": {
      "image/png": "[encoded data removed]",
      "text/plain": [
       "<Figure size 432x288 with 1 Axes>"
      ]
     },
     "metadata": {
      "needs_background": "light"
     },
     "output_type": "display_data"
    }
   ],
   "source": [
    "plt.plot(trainingloss_noisy)"
   ]
  },
  {
   "cell_type": "code",
   "execution_count": 20,
   "metadata": {},
   "outputs": [
    {
     "data": {
      "text/plain": [
       "[<matplotlib.lines.Line2D at 0x7f36c84d6cd0>]"
      ]
     },
     "execution_count": 20,
     "metadata": {},
     "output_type": "execute_result"
    },
    {
     "data": {
      "image/png": "[encoded data removed]",
      "text/plain": [
       "<Figure size 432x288 with 1 Axes>"
      ]
     },
     "metadata": {
      "needs_background": "light"
     },
     "output_type": "display_data"
    }
   ],
   "source": [
    "plt.plot(validationloss)"
   ]
  },
  {
   "cell_type": "code",
   "execution_count": 21,
   "metadata": {},
   "outputs": [
    {
     "data": {
      "image/png": "[encoded data removed]",
      "text/plain": [
       "<Figure size 432x288 with 1 Axes>"
      ]
     },
     "metadata": {
      "needs_background": "light"
     },
     "output_type": "display_data"
    }
   ],
   "source": [
    "plt.plot(testaccuracy)\n",
    "plt.savefig('medium_param_l_test.png')"
   ]
  },
  {
   "cell_type": "code",
   "execution_count": 27,
   "metadata": {},
   "outputs": [
    {
     "name": "stdout",
     "output_type": "stream",
     "text": [
      "Number Of Images Tested = 300\n",
      "\n",
      "Model Accuracy = 0.31333333333333335\n"
     ]
    }
   ],
   "source": [
    "correct_count, all_count = 0, 0\n",
    "for inp,labels in test_loader:\n",
    "  for i in range(len(labels)):\n",
    "    with torch.no_grad():\n",
    "        logps = ensemblemodel(inp)\n",
    "\n",
    "    \n",
    "    ps = torch.exp(logps)\n",
    "    probab = list(ps.numpy()[0])\n",
    "    pred_label = probab.index(max(probab))\n",
    "    true_label = labels.numpy()[i]\n",
    "    if(true_label == pred_label):\n",
    "      correct_count += 1\n",
    "    all_count += 1\n",
    "\n",
    "print(\"Number Of Images Tested =\", all_count)\n",
    "print(\"\\nModel Accuracy =\", (correct_count/all_count))"
   ]
  },
  {
   "cell_type": "code",
   "execution_count": 28,
   "metadata": {},
   "outputs": [],
   "source": [
    "class EnsembleModel2(nn.Module):\n",
    "    def __init__(self):\n",
    "        super(EnsembleModel2, self).__init__()\n",
    "        self.cnnblock1 = cnnblock1\n",
    "        self.cnnblock2 = cnnblock2\n",
    "        self.cnnblock3 = cnnblock3\n",
    "        self.mlpblock1 = mlpblock1\n",
    "        self.mlpblock2 = mlpblock2\n",
    "        self.mlpblock3 = mlpblock3\n",
    "    \n",
    "    def forward(self, x):\n",
    "        x1 = self.cnnblock1(x)\n",
    "        x2 = self.cnnblock2(x1)\n",
    "        x3 = self.cnnblock3(x2)\n",
    "        x4 = self.mlpblock1(x1)\n",
    "        x5 = self.mlpblock2(x2)\n",
    "        x6 = self.mlpblock3(x3)\n",
    "        x7 = x4 + x5 + x6\n",
    "        return F.log_softmax(x7, dim=1)\n",
    "\n",
    "ensemblemodel2 = EnsembleModel2()"
   ]
  },
  {
   "cell_type": "code",
   "execution_count": 29,
   "metadata": {},
   "outputs": [],
   "source": [
    "optimizer2 = optim.SGD(ensemblemodel2.parameters(), lr = 0.05)"
   ]
  },
  {
   "cell_type": "code",
   "execution_count": 30,
   "metadata": {},
   "outputs": [
    {
     "name": "stdout",
     "output_type": "stream",
     "text": [
      "[1,  100] loss: 0.938\n",
      "[1,  100] validation loss: 2.603\n",
      "\n",
      "Model Accuracy = 0.36\n",
      "[2,  100] loss: 1.694\n",
      "[2,  100] validation loss: 1.729\n",
      "\n",
      "Model Accuracy = 0.3566666666666667\n",
      "[3,  100] loss: 0.666\n",
      "[3,  100] validation loss: 2.667\n",
      "\n",
      "Model Accuracy = 0.38333333333333336\n",
      "[4,  100] loss: 1.370\n",
      "[4,  100] validation loss: 1.737\n",
      "\n",
      "Model Accuracy = 0.39666666666666667\n",
      "[5,  100] loss: 0.479\n",
      "[5,  100] validation loss: 2.982\n",
      "\n",
      "Model Accuracy = 0.38666666666666666\n",
      "[6,  100] loss: 1.068\n",
      "[6,  100] validation loss: 1.863\n",
      "\n",
      "Model Accuracy = 0.36666666666666664\n",
      "[7,  100] loss: 0.332\n",
      "[7,  100] validation loss: 3.468\n",
      "\n",
      "Model Accuracy = 0.4033333333333333\n",
      "[8,  100] loss: 0.801\n",
      "[8,  100] validation loss: 2.205\n",
      "\n",
      "Model Accuracy = 0.37666666666666665\n",
      "[9,  100] loss: 0.231\n",
      "[9,  100] validation loss: 3.544\n",
      "\n",
      "Model Accuracy = 0.41\n",
      "[10,  100] loss: 0.668\n",
      "[10,  100] validation loss: 2.524\n",
      "\n",
      "Model Accuracy = 0.3933333333333333\n",
      "[11,  100] loss: 0.265\n",
      "[11,  100] validation loss: 3.686\n",
      "\n",
      "Model Accuracy = 0.4166666666666667\n",
      "[12,  100] loss: 0.520\n",
      "[12,  100] validation loss: 3.037\n",
      "\n",
      "Model Accuracy = 0.36\n",
      "[13,  100] loss: 0.264\n",
      "[13,  100] validation loss: 3.731\n",
      "\n",
      "Model Accuracy = 0.42\n",
      "[14,  100] loss: 0.374\n",
      "[14,  100] validation loss: 3.058\n",
      "\n",
      "Model Accuracy = 0.41\n",
      "[15,  100] loss: 0.190\n",
      "[15,  100] validation loss: 4.468\n",
      "\n",
      "Model Accuracy = 0.4033333333333333\n",
      "[16,  100] loss: 0.248\n",
      "[16,  100] validation loss: 3.360\n",
      "\n",
      "Model Accuracy = 0.4066666666666667\n",
      "[17,  100] loss: 0.153\n",
      "[17,  100] validation loss: 3.914\n",
      "\n",
      "Model Accuracy = 0.41333333333333333\n",
      "[18,  100] loss: 0.233\n",
      "[18,  100] validation loss: 3.130\n",
      "\n",
      "Model Accuracy = 0.4033333333333333\n",
      "[19,  100] loss: 0.067\n",
      "[19,  100] validation loss: 4.891\n",
      "\n",
      "Model Accuracy = 0.41333333333333333\n",
      "[20,  100] loss: 0.185\n",
      "[20,  100] validation loss: 3.631\n",
      "\n",
      "Model Accuracy = 0.4\n",
      "[21,  100] loss: 0.103\n",
      "[21,  100] validation loss: 4.503\n",
      "\n",
      "Model Accuracy = 0.41333333333333333\n",
      "[22,  100] loss: 0.096\n",
      "[22,  100] validation loss: 4.146\n",
      "\n",
      "Model Accuracy = 0.4\n",
      "[23,  100] loss: 0.087\n",
      "[23,  100] validation loss: 4.769\n",
      "\n",
      "Model Accuracy = 0.3933333333333333\n",
      "[24,  100] loss: 0.128\n",
      "[24,  100] validation loss: 4.245\n",
      "\n",
      "Model Accuracy = 0.43\n",
      "[25,  100] loss: 0.227\n",
      "[25,  100] validation loss: 3.739\n",
      "\n",
      "Model Accuracy = 0.3566666666666667\n",
      "[26,  100] loss: 0.143\n",
      "[26,  100] validation loss: 3.847\n",
      "\n",
      "Model Accuracy = 0.43\n",
      "[27,  100] loss: 0.080\n",
      "[27,  100] validation loss: 4.723\n",
      "\n",
      "Model Accuracy = 0.4\n",
      "[28,  100] loss: 0.085\n",
      "[28,  100] validation loss: 4.423\n",
      "\n",
      "Model Accuracy = 0.4033333333333333\n",
      "[29,  100] loss: 0.038\n",
      "[29,  100] validation loss: 4.658\n",
      "\n",
      "Model Accuracy = 0.43\n",
      "[30,  100] loss: 0.054\n",
      "[30,  100] validation loss: 4.370\n",
      "\n",
      "Model Accuracy = 0.42333333333333334\n",
      "[31,  100] loss: 0.046\n",
      "[31,  100] validation loss: 4.525\n",
      "\n",
      "Model Accuracy = 0.42\n",
      "[32,  100] loss: 0.070\n",
      "[32,  100] validation loss: 3.921\n",
      "\n",
      "Model Accuracy = 0.42\n",
      "[33,  100] loss: 0.052\n",
      "[33,  100] validation loss: 4.541\n",
      "\n",
      "Model Accuracy = 0.4066666666666667\n",
      "[34,  100] loss: 0.036\n",
      "[34,  100] validation loss: 4.401\n",
      "\n",
      "Model Accuracy = 0.43\n",
      "[35,  100] loss: 0.007\n",
      "[35,  100] validation loss: 4.721\n",
      "\n",
      "Model Accuracy = 0.44\n",
      "[36,  100] loss: 0.008\n",
      "[36,  100] validation loss: 4.623\n",
      "\n",
      "Model Accuracy = 0.42\n",
      "[37,  100] loss: 0.004\n",
      "[37,  100] validation loss: 4.891\n",
      "\n",
      "Model Accuracy = 0.43333333333333335\n",
      "[38,  100] loss: 0.002\n",
      "[38,  100] validation loss: 4.846\n",
      "\n",
      "Model Accuracy = 0.4266666666666667\n",
      "[39,  100] loss: 0.001\n",
      "[39,  100] validation loss: 4.927\n",
      "\n",
      "Model Accuracy = 0.43333333333333335\n",
      "[40,  100] loss: 0.001\n",
      "[40,  100] validation loss: 4.982\n",
      "\n",
      "Model Accuracy = 0.43666666666666665\n",
      "[41,  100] loss: 0.000\n",
      "[41,  100] validation loss: 5.035\n",
      "\n",
      "Model Accuracy = 0.43333333333333335\n",
      "[42,  100] loss: 0.001\n",
      "[42,  100] validation loss: 5.077\n",
      "\n",
      "Model Accuracy = 0.43666666666666665\n",
      "[43,  100] loss: 0.000\n",
      "[43,  100] validation loss: 5.120\n",
      "\n",
      "Model Accuracy = 0.43333333333333335\n",
      "[44,  100] loss: 0.001\n",
      "[44,  100] validation loss: 5.155\n",
      "\n",
      "Model Accuracy = 0.43666666666666665\n",
      "[45,  100] loss: 0.000\n",
      "[45,  100] validation loss: 5.190\n",
      "\n",
      "Model Accuracy = 0.43666666666666665\n",
      "[46,  100] loss: 0.000\n",
      "[46,  100] validation loss: 5.221\n",
      "\n",
      "Model Accuracy = 0.44\n",
      "[47,  100] loss: 0.000\n",
      "[47,  100] validation loss: 5.251\n",
      "\n",
      "Model Accuracy = 0.43666666666666665\n",
      "[48,  100] loss: 0.000\n",
      "[48,  100] validation loss: 5.278\n",
      "\n",
      "Model Accuracy = 0.43\n",
      "[49,  100] loss: 0.000\n",
      "[49,  100] validation loss: 5.305\n",
      "\n",
      "Model Accuracy = 0.43\n",
      "[50,  100] loss: 0.000\n",
      "[50,  100] validation loss: 5.329\n",
      "\n",
      "Model Accuracy = 0.43\n",
      "[51,  100] loss: 0.000\n",
      "[51,  100] validation loss: 5.353\n",
      "\n",
      "Model Accuracy = 0.43\n",
      "Finished Training\n",
      "[2.30496541261673, 2.2132360422611237, 2.038103606700897, 1.9269544208049774, 1.8534944760799408, 1.7733643805980683, 1.669316167831421, 1.557045307159424, 1.4405820381641388, 1.3552888494729995, 1.316178840994835, 1.2405146545171737, 1.19057581782341, 1.133329954147339, 1.075378687977791, 0.9903799697756768, 1.1729242581129073, 1.512992542386055, 1.6485792058706283, 1.8762793064117431, 1.3970220381021499, 1.069365509748459, 1.7471438598632814, 1.0914044988155365, 1.4350484561920167, 1.7105332225561143]\n",
      "[2.2954131054878233, 2.281870186328888, 2.173243820667267, 2.0672119426727296, 2.015251830816269, 1.9611792612075805, 1.936789209842682, 1.910357586145401, 1.893823869228363, 1.8661103713512421, 1.8939206528663635, 1.8710334384441376, 1.883259780406952, 1.8632951259613038, 1.8823586916923523, 1.8450123047828675, 1.8942951333522797, 1.8468688881397248, 1.8614765524864196, 1.907736657857895, 1.736518201828003, 1.8417896831035614, 1.9051363795995713, 1.8433944880962372, 1.9033609455823899, 1.923626401424408, 1.8504037582874298, 1.847900357246399, 1.8247394466400146, 1.8863061767816545, 1.8828733742237092, 1.9094220888614655, 1.8622332036495208, 1.8689607292413712, 1.9264494794607163, 1.8170348012447357, 1.864415510892868, 2.04193745970726, 1.969201729297638, 1.908483736515045, 1.8301949495077132, 1.8342432004213334, 2.0172250497341158, 1.8505633902549743, 2.0283903706073763, 1.8616425395011902, 1.8965049439668655, 1.7933913564682007, 2.0222137784957885, 1.8679963058233262, 2.0180064791440966]\n",
      "[0.08666666666666667, 0.11333333333333333, 0.19333333333333333, 0.26666666666666666, 0.27666666666666667, 0.30666666666666664, 0.29, 0.30333333333333334, 0.30333333333333334, 0.33666666666666667, 0.3, 0.2866666666666667, 0.2866666666666667, 0.27666666666666667, 0.3, 0.31, 0.32666666666666666, 0.3233333333333333, 0.39, 0.31666666666666665, 0.34, 0.32, 0.35333333333333333, 0.36666666666666664, 0.32, 0.31333333333333335, 0.36666666666666664, 0.3466666666666667, 0.38666666666666666, 0.35333333333333333, 0.38666666666666666, 0.36666666666666664, 0.3433333333333333, 0.38, 0.32666666666666666, 0.39, 0.34, 0.31666666666666665, 0.32, 0.37333333333333335, 0.36, 0.35333333333333333, 0.36, 0.3566666666666667, 0.30666666666666664, 0.3433333333333333, 0.35, 0.36333333333333334, 0.3333333333333333, 0.39, 0.31333333333333335]\n"
     ]
    }
   ],
   "source": [
    "trainingloss2 = []\n",
    "validationloss2 = []\n",
    "testaccuracy2 = []\n",
    "for epoch in range(51):\n",
    "    \n",
    "    if epoch % 2 == 0:\n",
    "        for param in cnnblock1.parameters():\n",
    "            param.requires_grad_(True)\n",
    "        \n",
    "        for param in cnnblock2.parameters():\n",
    "            param.requires_grad_(True)\n",
    "        \n",
    "        for param in cnnblock3.parameters():\n",
    "            param.requires_grad_(True)\n",
    "        \n",
    "        for param in mlpblock1.parameters():\n",
    "            param.requires_grad_(True)\n",
    "            \n",
    "        for param in mlpblock2.parameters():\n",
    "            param.requires_grad_(True)\n",
    "            \n",
    "        for param in mlpblock3.parameters():\n",
    "            param.requires_grad_(True)\n",
    "        \n",
    "        running_loss = 0.0\n",
    "        for i, data in enumerate(set2_loader,0):\n",
    "            inputs, set2labels = data\n",
    "            \n",
    "            optimizer2.zero_grad()\n",
    "            \n",
    "            outputs = ensemblemodel2(inputs)\n",
    "            loss = criterion(outputs, set2labels)\n",
    "            loss.backward()\n",
    "            optimizer2.step()\n",
    "            \n",
    "            #print stats\n",
    "            running_loss += loss.item()\n",
    "            if i%100 == 99:\n",
    "                print('[%d,%5d] loss: %.3f' % (epoch+1, i + 1, running_loss / 100))\n",
    "                running_loss = 0.0\n",
    "                \n",
    "    else:\n",
    "        for param in cnnblock1.parameters():\n",
    "            param.requires_grad_(True)\n",
    "        \n",
    "        for param in cnnblock2.parameters():\n",
    "            param.requires_grad_(True)\n",
    "        \n",
    "        for param in cnnblock3.parameters():\n",
    "            param.requires_grad_(True)\n",
    "        \n",
    "        for param in mlpblock1.parameters():\n",
    "            param.requires_grad_(True)\n",
    "            \n",
    "        for param in mlpblock2.parameters():\n",
    "            param.requires_grad_(True)\n",
    "            \n",
    "        for param in mlpblock3.parameters():\n",
    "            param.requires_grad_(True)\n",
    "        \n",
    "        running_loss = 0.0\n",
    "        \n",
    "        for i, data in enumerate(set1_loader,0):\n",
    "            inputs, set1labels = data\n",
    "            \n",
    "            optimizer2.zero_grad()\n",
    "            \n",
    "            outputs = ensemblemodel2(inputs)\n",
    "            loss = criterion(outputs, set1labels)\n",
    "            loss.backward()\n",
    "            optimizer2.step()\n",
    "            \n",
    "            #print stats\n",
    "            running_loss += loss.item()\n",
    "            if i%100 == 99:\n",
    "                print('[%d,%5d] loss: %.3f' % (epoch+1, i + 1, running_loss / 100))\n",
    "                trainingloss2.append(running_loss/100)\n",
    "                running_loss = 0.0\n",
    "\n",
    "    running_loss2 = 0.0\n",
    "    \n",
    "    for i, data in enumerate(val_loader):\n",
    "            inputs,vallabels = data\n",
    "            outputs = ensemblemodel2(inputs)\n",
    "            lloss = criterion(outputs, vallabels)\n",
    "            \n",
    "            running_loss2 += lloss.item()\n",
    "            if i%100 == 99:\n",
    "                print('[%d,%5d] validation loss: %.3f' % (epoch+1, i + 1, running_loss2 / 100))\n",
    "                validationloss2.append(running_loss2/100)\n",
    "                running_loss2 = 0.0\n",
    "    \n",
    "    \n",
    "    \n",
    "    correct_count, all_count = 0, 0\n",
    "    for inp,labels in test_loader:\n",
    "      for i in range(len(labels)):\n",
    "        with torch.no_grad():\n",
    "            logps = ensemblemodel2(inp)\n",
    "\n",
    "    \n",
    "        ps = torch.exp(logps)\n",
    "        probab = list(ps.numpy()[0])\n",
    "        pred_label = probab.index(max(probab))\n",
    "        true_label = labels.numpy()[i]\n",
    "        if(true_label == pred_label):\n",
    "          correct_count += 1\n",
    "        all_count += 1\n",
    "\n",
    "    print(\"\\nModel Accuracy =\", (correct_count/all_count))\n",
    "    testaccuracy2.append(correct_count/all_count)                \n",
    "                \n",
    "                \n",
    "print('Finished Training')\n",
    "print(trainingloss)\n",
    "print(validationloss)\n",
    "print(testaccuracy)"
   ]
  },
  {
   "cell_type": "code",
   "execution_count": 31,
   "metadata": {},
   "outputs": [
    {
     "name": "stdout",
     "output_type": "stream",
     "text": [
      "Number Of Images Tested = 1000\n",
      "\n",
      "Model Accuracy = 0.6\n"
     ]
    }
   ],
   "source": [
    "correct_count, all_count = 0, 0\n",
    "for inp,labels in test_loader:\n",
    "  for i in range(len(labels)):\n",
    "    with torch.no_grad():\n",
    "        logps = ensemblemodel2(inp)\n",
    "\n",
    "    \n",
    "    ps = torch.exp(logps)\n",
    "    probab = list(ps.numpy()[0])\n",
    "    pred_label = probab.index(max(probab))\n",
    "    true_label = labels.numpy()[i]\n",
    "    if(true_label == pred_label):\n",
    "      correct_count += 1\n",
    "    all_count += 1\n",
    "\n",
    "print(\"Number Of Images Tested =\", all_count)\n",
    "print(\"\\nModel Accuracy =\", (correct_count/all_count))"
   ]
  },
  {
   "cell_type": "code",
   "execution_count": 31,
   "metadata": {},
   "outputs": [
    {
     "data": {
      "image/png": "[encoded data removed]",
      "text/plain": [
       "<Figure size 432x288 with 1 Axes>"
      ]
     },
     "metadata": {
      "needs_background": "light"
     },
     "output_type": "display_data"
    }
   ],
   "source": [
    "plt.plot(trainingloss)\n",
    "plt.plot(trainingloss2)\n",
    "plt.legend([\"Alternate Freeze\", \"Control\"])\n",
    "plt.xlabel(\"2 epochs\")\n",
    "plt.ylabel(\"training loss\")\n",
    "plt.savefig('medium_param_small_set_training_loss')"
   ]
  },
  {
   "cell_type": "code",
   "execution_count": 32,
   "metadata": {},
   "outputs": [
    {
     "data": {
      "image/png": "[encoded data removed]",
      "text/plain": [
       "<Figure size 432x288 with 1 Axes>"
      ]
     },
     "metadata": {
      "needs_background": "light"
     },
     "output_type": "display_data"
    }
   ],
   "source": [
    "plt.plot(trainingloss)\n",
    "plt.savefig('true_medium_param_m_l.png')"
   ]
  },
  {
   "cell_type": "code",
   "execution_count": 33,
   "metadata": {},
   "outputs": [
    {
     "data": {
      "image/png": "[encoded data removed]",
      "text/plain": [
       "<Figure size 432x288 with 1 Axes>"
      ]
     },
     "metadata": {
      "needs_background": "light"
     },
     "output_type": "display_data"
    }
   ],
   "source": [
    "plt.plot(validationloss)\n",
    "plt.savefig('true_medium_param_l_v.png')"
   ]
  },
  {
   "cell_type": "code",
   "execution_count": 34,
   "metadata": {},
   "outputs": [
    {
     "data": {
      "image/png": "[encoded data removed]",
      "text/plain": [
       "<Figure size 432x288 with 1 Axes>"
      ]
     },
     "metadata": {
      "needs_background": "light"
     },
     "output_type": "display_data"
    }
   ],
   "source": [
    "plt.plot(testaccuracy)\n",
    "plt.savefig('true_medium_param_l_test.png')"
   ]
  },
  {
   "cell_type": "code",
   "execution_count": 32,
   "metadata": {},
   "outputs": [
    {
     "data": {
      "image/png": "[encoded data removed]",
      "text/plain": [
       "<Figure size 432x288 with 1 Axes>"
      ]
     },
     "metadata": {
      "needs_background": "light"
     },
     "output_type": "display_data"
    }
   ],
   "source": [
    "plt.plot(testaccuracy)\n",
    "plt.plot(testaccuracy2)\n",
    "plt.legend([\"Alternate Freeze\", \"Control\"])\n",
    "plt.xlabel(\"epochs\")\n",
    "plt.ylabel(\"test accuracy\")\n",
    "plt.savefig('medium_param_small_set_test_accuracy')"
   ]
  }
 ],
 "metadata": {
  "kernelspec": {
   "display_name": "Python 3",
   "language": "python",
   "name": "python3"
  },
  "language_info": {
   "codemirror_mode": {
    "name": "ipython",
    "version": 3
   },
   "file_extension": ".py",
   "mimetype": "text/x-python",
   "name": "python",
   "nbconvert_exporter": "python",
   "pygments_lexer": "ipython3",
   "version": "3.7.6"
  }
 },
 "nbformat": 4,
 "nbformat_minor": 4
}
