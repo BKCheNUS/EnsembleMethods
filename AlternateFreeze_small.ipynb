{
 "cells": [
  {
   "cell_type": "code",
   "execution_count": 1,
   "metadata": {},
   "outputs": [],
   "source": [
    "import torch\n",
    "import numpy as np\n",
    "import torchvision\n",
    "import torchvision.datasets as datasets\n",
    "import pandas as pd\n",
    "import torchvision.transforms as transforms\n",
    "from torch.utils.data.sampler import SubsetRandomSampler\n",
    "import torch.nn.functional as F\n",
    "import torch.nn as nn\n",
    "import torch.optim as optim\n",
    "import matplotlib.pyplot as plt\n",
    "import random\n",
    "\n",
    "\n",
    "random.seed(1)"
   ]
  },
  {
   "cell_type": "code",
   "execution_count": 2,
   "metadata": {},
   "outputs": [
    {
     "name": "stdout",
     "output_type": "stream",
     "text": [
      "Files already downloaded and verified\n",
      "Files already downloaded and verified\n"
     ]
    }
   ],
   "source": [
    "transform = transforms.Compose([transforms.ToTensor(),transforms.Normalize((0.5, 0.5, 0.5), (0.5, 0.5, 0.5))])\n",
    "\n",
    "trainset = torchvision.datasets.CIFAR10(root='./data', train=True,\n",
    "                                        download=True, transform=transform)\n",
    "\n",
    "\n",
    "testset = torchvision.datasets.CIFAR10(root='./data', train=False,\n",
    "                                       download=True, transform=transform)\n",
    "\n",
    "classes = ('plane', 'car', 'bird', 'cat',\n",
    "           'deer', 'dog', 'frog', 'horse', 'ship', 'truck')"
   ]
  },
  {
   "cell_type": "code",
   "execution_count": 3,
   "metadata": {},
   "outputs": [
    {
     "name": "stdout",
     "output_type": "stream",
     "text": [
      "50000 10000\n"
     ]
    }
   ],
   "source": [
    "train_len = len(trainset)\n",
    "test_len = len(testset)\n",
    "index = list(range(train_len))\n",
    "print(train_len, test_len)"
   ]
  },
  {
   "cell_type": "code",
   "execution_count": 4,
   "metadata": {},
   "outputs": [],
   "source": [
    "#construct validation set (lets use 10 percent)\n",
    "np.random.shuffle(index)\n",
    "#number of blocks of data\n",
    "split = int(0.4 * train_len)\n",
    "set1_index = index[0:split]\n",
    "set2_index = index[split:2*split]\n",
    "val_index = index[2*split:]\n",
    "#Need to use a dataloader to control batch size and also enable SGD\n",
    "set1_loader = torch.utils.data.DataLoader(trainset, sampler = set1_index, batch_size = 10, num_workers = 10)\n",
    "set2_loader = torch.utils.data.DataLoader(trainset, sampler = set2_index, batch_size = 10, num_workers = 10)\n",
    "val_loader = torch.utils.data.DataLoader(trainset, sampler = val_index,batch_size = 10, num_workers = 10)\n",
    "test_loader = torch.utils.data.DataLoader(testset)"
   ]
  },
  {
   "cell_type": "code",
   "execution_count": 5,
   "metadata": {},
   "outputs": [
    {
     "name": "stdout",
     "output_type": "stream",
     "text": [
      "20000\n",
      "20000\n",
      "10000\n"
     ]
    }
   ],
   "source": [
    "print(len(set1_index))\n",
    "print(len(set2_index))\n",
    "print(len(val_index))"
   ]
  },
  {
   "cell_type": "code",
   "execution_count": 6,
   "metadata": {},
   "outputs": [
    {
     "name": "stdout",
     "output_type": "stream",
     "text": [
      "1000\n",
      "1000\n",
      "300\n"
     ]
    }
   ],
   "source": [
    "#dataset only for testing don't run this piece of code if it's not necessary\n",
    "split = int(0.02*train_len)\n",
    "set1_index = index[0:split]\n",
    "set2_index = index[split:2*split]\n",
    "val_index = index[2*split:3*split]\n",
    "index2 = list(range(test_len))\n",
    "np.random.shuffle(index2)\n",
    "split2 = int(0.03 * test_len)\n",
    "test_index = index2[0:split2]\n",
    "print(len(set1_index))\n",
    "print(len(set2_index))\n",
    "print(len(test_index))\n",
    "set1_loader = torch.utils.data.DataLoader(trainset, sampler = set1_index, batch_size = 10, num_workers = 10)\n",
    "set2_loader = torch.utils.data.DataLoader(trainset, sampler = set2_index, batch_size = 10, num_workers = 10)\n",
    "val_loader = torch.utils.data.DataLoader(trainset, sampler = val_index, batch_size = 10, num_workers = 10)\n",
    "test_loader = torch.utils.data.DataLoader(testset, sampler = test_index)"
   ]
  },
  {
   "cell_type": "code",
   "execution_count": 7,
   "metadata": {},
   "outputs": [
    {
     "name": "stdout",
     "output_type": "stream",
     "text": [
      "10000\n",
      "10000\n",
      "300\n"
     ]
    }
   ],
   "source": [
    "#dataset only for testing don't run this piece of code if it's not necessary\n",
    "split = int(0.2*train_len)\n",
    "set1_index = index[0:split]\n",
    "set2_index = index[split:2*split]\n",
    "val_index = index[2*split:3*split]\n",
    "index2 = list(range(test_len))\n",
    "np.random.shuffle(index2)\n",
    "split2 = int(0.03 * test_len)\n",
    "test_index = index2[0:split2]\n",
    "print(len(set1_index))\n",
    "print(len(set2_index))\n",
    "print(len(test_index))\n",
    "set1_loader = torch.utils.data.DataLoader(trainset, sampler = set1_index, batch_size = 10, num_workers = 10)\n",
    "set2_loader = torch.utils.data.DataLoader(trainset, sampler = set2_index, batch_size = 10, num_workers = 10)\n",
    "val_loader = torch.utils.data.DataLoader(trainset, sampler = val_index, batch_size = 10, num_workers = 10)\n",
    "test_loader = torch.utils.data.DataLoader(testset, sampler = test_index)"
   ]
  },
  {
   "cell_type": "code",
   "execution_count": 6,
   "metadata": {},
   "outputs": [],
   "source": [
    "set1dataiter = iter(set1_loader)\n",
    "set1images, set1labels = set1dataiter.next()\n",
    "set2dataiter = iter(set2_loader)\n",
    "set2images, set2labels = set2dataiter.next()\n",
    "valdataiter = iter(val_loader)\n",
    "valimages, vallabels = valdataiter.next()"
   ]
  },
  {
   "cell_type": "code",
   "execution_count": 7,
   "metadata": {},
   "outputs": [],
   "source": [
    "class CNNBlock1(nn.Module):\n",
    "    def __init__(self):\n",
    "        super(CNNBlock1, self).__init__()\n",
    "        self.conv1 = nn.Conv2d(3, 16, kernel_size = 3, padding = 1)\n",
    "        self.conv2 = nn.Conv2d(16, 32, kernel_size = 3)\n",
    "    \n",
    "    def forward(self, x):\n",
    "        x = F.relu(self.conv1(x))\n",
    "        x = F.relu(F.max_pool2d(self.conv2(x),2))\n",
    "        return x\n",
    "cnnblock1 = CNNBlock1()"
   ]
  },
  {
   "cell_type": "code",
   "execution_count": 8,
   "metadata": {},
   "outputs": [],
   "source": [
    "class CNNBlock2(nn.Module):\n",
    "    def __init__(self):\n",
    "        super(CNNBlock2, self).__init__()\n",
    "        self.conv3 = nn.Conv2d(32, 32, kernel_size = 3, padding = 1)\n",
    "        self.conv4 = nn.Conv2d(32, 64, kernel_size = 4, padding = 1)\n",
    "    \n",
    "    def forward(self, x):\n",
    "        x = F.relu(self.conv3(x))\n",
    "        x = F.relu(F.max_pool2d(self.conv4(x),2))\n",
    "        return x\n",
    "cnnblock2 = CNNBlock2()"
   ]
  },
  {
   "cell_type": "code",
   "execution_count": 9,
   "metadata": {},
   "outputs": [],
   "source": [
    "class CNNBlock3(nn.Module):\n",
    "    def __init__(self):\n",
    "        super(CNNBlock3, self).__init__()\n",
    "        self.conv5 = nn.Conv2d(64, 64, kernel_size = 3, padding = 1)\n",
    "        self.conv6 = nn.Conv2d(64, 128, kernel_size = 2)\n",
    "    \n",
    "    def forward(self, x):\n",
    "        x = F.relu(self.conv5(x))\n",
    "        x = F.relu(self.conv6(x))\n",
    "        return x\n",
    "cnnblock3 = CNNBlock3()"
   ]
  },
  {
   "cell_type": "code",
   "execution_count": 10,
   "metadata": {},
   "outputs": [],
   "source": [
    "class MLPBlock1(nn.Module):\n",
    "    def __init__(self):\n",
    "        super(MLPBlock1, self).__init__()\n",
    "        self.fc1 = nn.Linear(15*15*32, 256)\n",
    "        self.fc2 = nn.Linear(256, 64)\n",
    "        self.fc3 = nn.Linear(64, 10)\n",
    "    \n",
    "    def forward(self, x):\n",
    "        x = x.view(-1, 15*15*32)\n",
    "        x = F.relu(self.fc1(x))\n",
    "        x = F.relu(self.fc2(x))\n",
    "        x = self.fc3(x)\n",
    "        return x\n",
    "mlpblock1 = MLPBlock1()"
   ]
  },
  {
   "cell_type": "code",
   "execution_count": 11,
   "metadata": {},
   "outputs": [],
   "source": [
    "class MLPBlock2(nn.Module):\n",
    "    def __init__(self):\n",
    "        super(MLPBlock2, self).__init__()\n",
    "        self.fc4 = nn.Linear(7*7*64, 256)\n",
    "        self.fc5 = nn.Linear(256, 64)\n",
    "        self.fc6 = nn.Linear(64,10)\n",
    "    \n",
    "    def forward(self, x):\n",
    "        x = x.view(-1, 7*7*64)\n",
    "        x = F.relu(self.fc4(x))\n",
    "        x = F.relu(self.fc5(x))\n",
    "        x = self.fc6(x)\n",
    "        return x\n",
    "mlpblock2 = MLPBlock2()"
   ]
  },
  {
   "cell_type": "code",
   "execution_count": 12,
   "metadata": {},
   "outputs": [],
   "source": [
    "class MLPBlock3(nn.Module):\n",
    "    def __init__(self):\n",
    "        super(MLPBlock3, self).__init__()\n",
    "        self.fc7 = nn.Linear(6*6*128, 256)\n",
    "        self.fc8 = nn.Linear(256, 64)\n",
    "        self.fc9 = nn.Linear(64, 10)\n",
    "    \n",
    "    def forward(self, x):\n",
    "        x = x.view(-1, 6*6*128)\n",
    "        x = F.relu(self.fc7(x))\n",
    "        x = F.relu(self.fc8(x))\n",
    "        x = self.fc9(x)\n",
    "        return x\n",
    "mlpblock3 = MLPBlock3()"
   ]
  },
  {
   "cell_type": "code",
   "execution_count": 13,
   "metadata": {},
   "outputs": [],
   "source": [
    "class EnsembleModel(nn.Module):\n",
    "    def __init__(self):\n",
    "        super(EnsembleModel, self).__init__()\n",
    "        self.cnnblock1 = cnnblock1\n",
    "        self.cnnblock2 = cnnblock2\n",
    "        self.cnnblock3 = cnnblock3\n",
    "        self.mlpblock1 = mlpblock1\n",
    "        self.mlpblock2 = mlpblock2\n",
    "        self.mlpblock3 = mlpblock3\n",
    "    \n",
    "    def forward(self, x):\n",
    "        x1 = self.cnnblock1(x)\n",
    "        x2 = self.cnnblock2(x1)\n",
    "        x3 = self.cnnblock3(x2)\n",
    "        x4 = self.mlpblock1(x1)\n",
    "        x5 = self.mlpblock2(x2)\n",
    "        x6 = self.mlpblock3(x3)\n",
    "        x7 = x4 + x5 + x6\n",
    "        return F.log_softmax(x7, dim=1)\n",
    "\n",
    "ensemblemodel = EnsembleModel()"
   ]
  },
  {
   "cell_type": "code",
   "execution_count": 14,
   "metadata": {},
   "outputs": [],
   "source": [
    "optimizer = optim.SGD(ensemblemodel.parameters(), lr = 0.05)"
   ]
  },
  {
   "cell_type": "code",
   "execution_count": 15,
   "metadata": {},
   "outputs": [],
   "source": [
    "criterion = nn.CrossEntropyLoss()"
   ]
  },
  {
   "cell_type": "code",
   "execution_count": 16,
   "metadata": {},
   "outputs": [
    {
     "name": "stdout",
     "output_type": "stream",
     "text": [
      "[1, 2000] training loss: 1.949\n",
      "\n",
      "Model Accuracy = 0.3595\n",
      "[2, 2000] training loss: 1.669\n",
      "\n",
      "Model Accuracy = 0.4324\n",
      "[3, 2000] training loss: 1.496\n",
      "\n",
      "Model Accuracy = 0.5118\n",
      "[4, 2000] training loss: 1.361\n",
      "\n",
      "Model Accuracy = 0.5488\n",
      "[5, 2000] training loss: 1.202\n",
      "\n",
      "Model Accuracy = 0.5633\n",
      "[6, 2000] training loss: 1.237\n",
      "\n",
      "Model Accuracy = 0.5988\n",
      "[7, 2000] training loss: 0.991\n",
      "\n",
      "Model Accuracy = 0.5908\n",
      "[8, 2000] training loss: 1.212\n",
      "\n",
      "Model Accuracy = 0.6073\n",
      "[9, 2000] training loss: 0.818\n",
      "\n",
      "Model Accuracy = 0.5926\n",
      "[10, 2000] training loss: 1.255\n",
      "\n",
      "Model Accuracy = 0.5942\n",
      "[11, 2000] training loss: 0.745\n",
      "\n",
      "Model Accuracy = 0.5863\n",
      "[12, 2000] training loss: 1.361\n",
      "\n",
      "Model Accuracy = 0.5409\n",
      "[13, 2000] training loss: 0.712\n",
      "\n",
      "Model Accuracy = 0.5932\n",
      "[14, 2000] training loss: 1.477\n",
      "\n",
      "Model Accuracy = 0.529\n",
      "[15, 2000] training loss: 0.829\n",
      "\n",
      "Model Accuracy = 0.5713\n",
      "[16, 2000] training loss: 1.499\n",
      "\n",
      "Model Accuracy = 0.5244\n",
      "[17, 2000] training loss: 0.855\n",
      "\n",
      "Model Accuracy = 0.5675\n",
      "[18, 2000] training loss: 1.502\n",
      "\n",
      "Model Accuracy = 0.4824\n",
      "[19, 2000] training loss: 0.825\n",
      "\n",
      "Model Accuracy = 0.5601\n",
      "[20, 2000] training loss: 1.552\n",
      "\n",
      "Model Accuracy = 0.5311\n",
      "[21, 2000] training loss: 0.707\n",
      "\n",
      "Model Accuracy = 0.572\n",
      "[22, 2000] training loss: 1.567\n",
      "\n",
      "Model Accuracy = 0.5621\n",
      "[23, 2000] training loss: 0.607\n",
      "\n",
      "Model Accuracy = 0.5606\n",
      "[24, 2000] training loss: 1.799\n",
      "\n",
      "Model Accuracy = 0.4934\n",
      "[25, 2000] training loss: 0.799\n",
      "\n",
      "Model Accuracy = 0.5236\n",
      "[26, 2000] training loss: 1.710\n",
      "\n",
      "Model Accuracy = 0.4947\n",
      "[27, 2000] training loss: 0.719\n",
      "\n",
      "Model Accuracy = 0.5316\n",
      "[28, 2000] training loss: 1.938\n",
      "\n",
      "Model Accuracy = 0.4982\n",
      "[29, 2000] training loss: 0.772\n",
      "\n",
      "Model Accuracy = 0.5332\n",
      "[30, 2000] training loss: 1.691\n",
      "\n",
      "Model Accuracy = 0.5167\n",
      "[31, 2000] training loss: 0.727\n",
      "\n",
      "Model Accuracy = 0.5289\n",
      "[32, 2000] training loss: 1.683\n",
      "\n",
      "Model Accuracy = 0.5103\n",
      "[33, 2000] training loss: 0.701\n",
      "\n",
      "Model Accuracy = 0.5231\n",
      "[34, 2000] training loss: 1.647\n",
      "\n",
      "Model Accuracy = 0.508\n",
      "[35, 2000] training loss: 0.620\n",
      "\n",
      "Model Accuracy = 0.5225\n",
      "[36, 2000] training loss: 1.896\n",
      "\n",
      "Model Accuracy = 0.4968\n",
      "[37, 2000] training loss: 0.654\n",
      "\n",
      "Model Accuracy = 0.5225\n",
      "[38, 2000] training loss: 1.834\n",
      "\n",
      "Model Accuracy = 0.4831\n",
      "[39, 2000] training loss: 0.771\n",
      "\n",
      "Model Accuracy = 0.4996\n",
      "[40, 2000] training loss: 1.724\n",
      "\n",
      "Model Accuracy = 0.4977\n",
      "[41, 2000] training loss: 0.778\n",
      "\n",
      "Model Accuracy = 0.5038\n",
      "[42, 2000] training loss: 1.663\n",
      "\n",
      "Model Accuracy = 0.5001\n",
      "[43, 2000] training loss: 0.694\n",
      "\n",
      "Model Accuracy = 0.5308\n",
      "[44, 2000] training loss: 1.701\n",
      "\n",
      "Model Accuracy = 0.487\n",
      "[45, 2000] training loss: 0.592\n",
      "\n",
      "Model Accuracy = 0.5235\n",
      "[46, 2000] training loss: 2.002\n",
      "\n",
      "Model Accuracy = 0.4785\n",
      "[47, 2000] training loss: 0.859\n",
      "\n",
      "Model Accuracy = 0.5087\n",
      "[48, 2000] training loss: 1.648\n",
      "\n",
      "Model Accuracy = 0.5057\n",
      "[49, 2000] training loss: 0.608\n",
      "\n",
      "Model Accuracy = 0.5203\n",
      "[50, 2000] training loss: 1.868\n",
      "\n",
      "Model Accuracy = 0.451\n",
      "[51, 2000] training loss: 0.903\n",
      "\n",
      "Model Accuracy = 0.4958\n",
      "Finished Training\n",
      "[1.9487490419745446, 1.4957738026380538, 1.2015294491946698, 0.9914141334369778, 0.8178232286423445, 0.7449736144952476, 0.7120121156852692, 0.8285465812273324, 0.8550452713295817, 0.8253359033316374, 0.7068036148827523, 0.6067469168715179, 0.7986086335889995, 0.7190091971904039, 0.7721162099167704, 0.7274867421332747, 0.7011103037185967, 0.6198826080337166, 0.653726578053087, 0.7709617839120328, 0.7784601443260908, 0.6939049516450614, 0.5918852968793362, 0.859267251715064, 0.6084292542859912, 0.9027082088142634]\n",
      "[1.9487490419745446, 1.6685869730114937, 1.4957738026380538, 1.3605811157524585, 1.2015294491946698, 1.2371579147130252, 0.9914141334369778, 1.212369082286954, 0.8178232286423445, 1.2547863896638154, 0.7449736144952476, 1.36137430973351, 0.7120121156852692, 1.4767791339606047, 0.8285465812273324, 1.498520200163126, 0.8550452713295817, 1.5015222501903773, 0.8253359033316374, 1.5521413487531244, 0.7068036148827523, 1.566962960794568, 0.6067469168715179, 1.798625665217638, 0.7986086335889995, 1.7099981383904814, 0.7190091971904039, 1.9384326530322433, 0.7721162099167704, 1.69087411224097, 0.7274867421332747, 1.6831709014177323, 0.7011103037185967, 1.6471717706620692, 0.6198826080337166, 1.8959424802809954, 0.653726578053087, 1.8340406994521619, 0.7709617839120328, 1.7244436766207218, 0.7784601443260908, 1.6634623007886111, 0.6939049516450614, 1.7007134187594055, 0.5918852968793362, 2.0019425823241472, 0.859267251715064, 1.648458769261837, 0.6084292542859912, 1.8681689262390138, 0.9027082088142634]\n",
      "[]\n",
      "[0.3595, 0.4324, 0.5118, 0.5488, 0.5633, 0.5988, 0.5908, 0.6073, 0.5926, 0.5942, 0.5863, 0.5409, 0.5932, 0.529, 0.5713, 0.5244, 0.5675, 0.4824, 0.5601, 0.5311, 0.572, 0.5621, 0.5606, 0.4934, 0.5236, 0.4947, 0.5316, 0.4982, 0.5332, 0.5167, 0.5289, 0.5103, 0.5231, 0.508, 0.5225, 0.4968, 0.5225, 0.4831, 0.4996, 0.4977, 0.5038, 0.5001, 0.5308, 0.487, 0.5235, 0.4785, 0.5087, 0.5057, 0.5203, 0.451, 0.4958]\n"
     ]
    }
   ],
   "source": [
    "trainingloss = []\n",
    "trainingloss_noisy = []\n",
    "validationloss = []\n",
    "testaccuracy = []\n",
    "for epoch in range(51):\n",
    "\n",
    "    if epoch % 2 == 0:\n",
    "        for param in cnnblock1.parameters():\n",
    "            param.requires_grad_(False)\n",
    "        \n",
    "        for param in cnnblock2.parameters():\n",
    "            param.requires_grad_(False)\n",
    "        \n",
    "        for param in cnnblock3.parameters():\n",
    "            param.requires_grad_(False)\n",
    "        \n",
    "        for param in mlpblock1.parameters():\n",
    "            param.requires_grad_(True)\n",
    "            \n",
    "        for param in mlpblock2.parameters():\n",
    "            param.requires_grad_(True)\n",
    "            \n",
    "        for param in mlpblock3.parameters():\n",
    "            param.requires_grad_(True)\n",
    "        \n",
    "        running_loss = 0.0\n",
    "        for i, data in enumerate(set2_loader,0):\n",
    "            inputs, set2labels = data\n",
    "            \n",
    "            optimizer.zero_grad()\n",
    "            \n",
    "            outputs = ensemblemodel(inputs)\n",
    "            loss = criterion(outputs, set2labels)\n",
    "            loss.backward()\n",
    "            optimizer.step()\n",
    "            \n",
    "            #print stats\n",
    "            running_loss += loss.item()\n",
    "            if i%2000 == 1999:\n",
    "                print('[%d,%5d] training loss: %.3f' % (epoch+1, i + 1, running_loss / 2000))\n",
    "                trainingloss.append(running_loss/2000)\n",
    "                trainingloss_noisy.append(running_loss/2000)\n",
    "                running_loss = 0.0\n",
    "                \n",
    "                \n",
    "    else:\n",
    "        for param in cnnblock1.parameters():\n",
    "            param.requires_grad_(True)\n",
    "        \n",
    "        for param in cnnblock2.parameters():\n",
    "            param.requires_grad_(True)\n",
    "        \n",
    "        for param in cnnblock3.parameters():\n",
    "            param.requires_grad_(True)\n",
    "        \n",
    "        for param in mlpblock1.parameters():\n",
    "            param.requires_grad_(False)\n",
    "            \n",
    "        for param in mlpblock2.parameters():\n",
    "            param.requires_grad_(False)\n",
    "            \n",
    "        for param in mlpblock3.parameters():\n",
    "            param.requires_grad_(False)\n",
    "        \n",
    "        running_loss = 0.0\n",
    "        \n",
    "        for i, data in enumerate(set1_loader,0):\n",
    "            inputs, set1labels = data\n",
    "            \n",
    "            optimizer.zero_grad()\n",
    "            \n",
    "            outputs = ensemblemodel(inputs)\n",
    "            loss = criterion(outputs, set1labels)\n",
    "            loss.backward()\n",
    "            optimizer.step()\n",
    "            \n",
    "            #print stats\n",
    "            running_loss += loss.item()\n",
    "            if i%2000 == 1999:\n",
    "                print('[%d,%5d] training loss: %.3f' % (epoch+1, i + 1, running_loss / 2000))\n",
    "                trainingloss_noisy.append(running_loss/2000)\n",
    "                running_loss = 0.0\n",
    "                \n",
    "\n",
    "    running_loss2 = 0.0\n",
    "    \n",
    "    for i, data in enumerate(val_loader):\n",
    "            inputs,vallabels = data\n",
    "            outputs = ensemblemodel(inputs)\n",
    "            lloss = criterion(outputs, vallabels)\n",
    "            \n",
    "            running_loss2 += lloss.item()\n",
    "            if i%2000 == 1999:\n",
    "                print('[%d,%5d] validation loss: %.3f' % (epoch+1, i + 1, running_loss2 / 2000))\n",
    "                validationloss.append(running_loss2/2000)\n",
    "                running_loss2 = 0.0\n",
    "                \n",
    "                \n",
    "    correct_count, all_count = 0, 0\n",
    "    for inp,labels in test_loader:\n",
    "      for i in range(len(labels)):\n",
    "        with torch.no_grad():\n",
    "            logps = ensemblemodel(inp)\n",
    "\n",
    "    \n",
    "        ps = torch.exp(logps)\n",
    "        probab = list(ps.numpy()[0])\n",
    "        pred_label = probab.index(max(probab))\n",
    "        true_label = labels.numpy()[i]\n",
    "        if(true_label == pred_label):\n",
    "          correct_count += 1\n",
    "        all_count += 1\n",
    "\n",
    "    print(\"\\nModel Accuracy =\", (correct_count/all_count))\n",
    "    testaccuracy.append(correct_count/all_count)\n",
    "                \n",
    "                \n",
    "print('Finished Training')\n",
    "print(trainingloss)\n",
    "print(trainingloss_noisy)\n",
    "print(validationloss)\n",
    "print(testaccuracy)"
   ]
  },
  {
   "cell_type": "code",
   "execution_count": 18,
   "metadata": {},
   "outputs": [
    {
     "ename": "NameError",
     "evalue": "name 's_s_l' is not defined",
     "output_type": "error",
     "traceback": [
      "\u001b[0;31m---------------------------------------------------------------------------\u001b[0m",
      "\u001b[0;31mNameError\u001b[0m                                 Traceback (most recent call last)",
      "\u001b[0;32m<ipython-input-18-7e4289ee277b>\u001b[0m in \u001b[0;36m<module>\u001b[0;34m\u001b[0m\n\u001b[0;32m----> 1\u001b[0;31m \u001b[0mnp\u001b[0m\u001b[0;34m.\u001b[0m\u001b[0msave\u001b[0m\u001b[0;34m(\u001b[0m\u001b[0ms_s_l\u001b[0m\u001b[0;34m,\u001b[0m \u001b[0mtrainingloss\u001b[0m\u001b[0;34m)\u001b[0m\u001b[0;34m\u001b[0m\u001b[0;34m\u001b[0m\u001b[0m\n\u001b[0m",
      "\u001b[0;31mNameError\u001b[0m: name 's_s_l' is not defined"
     ]
    }
   ],
   "source": [
    "np.save(s_s_l, trainingloss)"
   ]
  },
  {
   "cell_type": "code",
   "execution_count": 19,
   "metadata": {},
   "outputs": [
    {
     "data": {
      "image/png": "[encoded data removed]",
      "text/plain": [
       "<Figure size 432x288 with 1 Axes>"
      ]
     },
     "metadata": {
      "needs_background": "light"
     },
     "output_type": "display_data"
    }
   ],
   "source": [
    "plt.plot(trainingloss)\n",
    "plt.savefig('small_param_m_l.png')"
   ]
  },
  {
   "cell_type": "code",
   "execution_count": null,
   "metadata": {},
   "outputs": [],
   "source": [
    "plt.plot(trainingloss_noisy)\n",
    "plt.savefig(\"noisy_small_param_m_t.png')"
   ]
  },
  {
   "cell_type": "code",
   "execution_count": null,
   "metadata": {},
   "outputs": [],
   "source": [
    "plt.plot(validationloss)"
   ]
  },
  {
   "cell_type": "code",
   "execution_count": null,
   "metadata": {},
   "outputs": [],
   "source": [
    "plt.plot(testaccuracy)\n",
    "plt.savefig('small_param_m_t.png')"
   ]
  },
  {
   "cell_type": "code",
   "execution_count": null,
   "metadata": {},
   "outputs": [],
   "source": [
    "correct_count, all_count = 0, 0\n",
    "for inp,labels in test_loader:\n",
    "  for i in range(len(labels)):\n",
    "    with torch.no_grad():\n",
    "        logps = ensemblemodel(inp)\n",
    "\n",
    "    \n",
    "    ps = torch.exp(logps)\n",
    "    probab = list(ps.numpy()[0])\n",
    "    pred_label = probab.index(max(probab))\n",
    "    true_label = labels.numpy()[i]\n",
    "    if(true_label == pred_label):\n",
    "      correct_count += 1\n",
    "    all_count += 1\n",
    "\n",
    "print(\"Number Of Images Tested =\", all_count)\n",
    "print(\"\\nModel Accuracy =\", (correct_count/all_count))"
   ]
  },
  {
   "cell_type": "code",
   "execution_count": 17,
   "metadata": {},
   "outputs": [],
   "source": [
    "class EnsembleModel2(nn.Module):\n",
    "    def __init__(self):\n",
    "        super(EnsembleModel2, self).__init__()\n",
    "        self.cnnblock1 = cnnblock1\n",
    "        self.cnnblock2 = cnnblock2\n",
    "        self.cnnblock3 = cnnblock3\n",
    "        self.mlpblock1 = mlpblock1\n",
    "        self.mlpblock2 = mlpblock2\n",
    "        self.mlpblock3 = mlpblock3\n",
    "    \n",
    "    def forward(self, x):\n",
    "        x1 = self.cnnblock1(x)\n",
    "        x2 = self.cnnblock2(x1)\n",
    "        x3 = self.cnnblock3(x2)\n",
    "        x4 = self.mlpblock1(x1)\n",
    "        x5 = self.mlpblock2(x2)\n",
    "        x6 = self.mlpblock3(x3)\n",
    "        x7 = x4 + x5 + x6\n",
    "        return F.log_softmax(x7, dim=1)\n",
    "\n",
    "ensemblemodel2 = EnsembleModel2()"
   ]
  },
  {
   "cell_type": "code",
   "execution_count": 18,
   "metadata": {},
   "outputs": [],
   "source": [
    "optimizer2 = optim.SGD(ensemblemodel2.parameters(), lr = 0.05)"
   ]
  },
  {
   "cell_type": "code",
   "execution_count": null,
   "metadata": {},
   "outputs": [
    {
     "name": "stdout",
     "output_type": "stream",
     "text": [
      "[1, 2000] loss: 0.225\n",
      "\n",
      "Model Accuracy = 0.5919\n",
      "[2, 2000] loss: 1.184\n",
      "\n",
      "Model Accuracy = 0.6241\n",
      "[3, 2000] loss: 0.127\n",
      "\n",
      "Model Accuracy = 0.6126\n",
      "[4, 2000] loss: 0.755\n",
      "\n",
      "Model Accuracy = 0.6311\n",
      "[5, 2000] loss: 0.063\n",
      "\n",
      "Model Accuracy = 0.6243\n",
      "[6, 2000] loss: 0.422\n",
      "\n",
      "Model Accuracy = 0.6125\n",
      "[7, 2000] loss: 0.045\n",
      "\n",
      "Model Accuracy = 0.6264\n",
      "[8, 2000] loss: 0.249\n",
      "\n",
      "Model Accuracy = 0.616\n",
      "[9, 2000] loss: 0.045\n",
      "\n",
      "Model Accuracy = 0.6132\n",
      "[10, 2000] loss: 0.177\n",
      "\n",
      "Model Accuracy = 0.6099\n",
      "[11, 2000] loss: 0.071\n",
      "\n",
      "Model Accuracy = 0.6139\n",
      "[12, 2000] loss: 0.171\n",
      "\n",
      "Model Accuracy = 0.6091\n",
      "[13, 2000] loss: 0.084\n",
      "\n",
      "Model Accuracy = 0.5927\n",
      "[14, 2000] loss: 0.192\n",
      "\n",
      "Model Accuracy = 0.6111\n",
      "[15, 2000] loss: 0.087\n",
      "\n",
      "Model Accuracy = 0.6047\n"
     ]
    }
   ],
   "source": [
    "trainingloss2 = []\n",
    "validationloss2 = []\n",
    "testaccuracy2 = []\n",
    "for epoch in range(51):\n",
    "    \n",
    "    if epoch % 2 == 0:\n",
    "        for param in cnnblock1.parameters():\n",
    "            param.requires_grad_(True)\n",
    "        \n",
    "        for param in cnnblock2.parameters():\n",
    "            param.requires_grad_(True)\n",
    "        \n",
    "        for param in cnnblock3.parameters():\n",
    "            param.requires_grad_(True)\n",
    "        \n",
    "        for param in mlpblock1.parameters():\n",
    "            param.requires_grad_(True)\n",
    "            \n",
    "        for param in mlpblock2.parameters():\n",
    "            param.requires_grad_(True)\n",
    "            \n",
    "        for param in mlpblock3.parameters():\n",
    "            param.requires_grad_(True)\n",
    "        \n",
    "        running_loss = 0.0\n",
    "        for i, data in enumerate(set2_loader,0):\n",
    "            inputs, set2labels = data\n",
    "            \n",
    "            optimizer2.zero_grad()\n",
    "            \n",
    "            outputs = ensemblemodel2(inputs)\n",
    "            loss = criterion(outputs, set2labels)\n",
    "            loss.backward()\n",
    "            optimizer2.step()\n",
    "            \n",
    "            #print stats\n",
    "            running_loss += loss.item()\n",
    "            if i%2000 == 1999:\n",
    "                print('[%d,%5d] loss: %.3f' % (epoch+1, i + 1, running_loss / 2000))\n",
    "                running_loss = 0.0\n",
    "                \n",
    "    else:\n",
    "        for param in cnnblock1.parameters():\n",
    "            param.requires_grad_(True)\n",
    "        \n",
    "        for param in cnnblock2.parameters():\n",
    "            param.requires_grad_(True)\n",
    "        \n",
    "        for param in cnnblock3.parameters():\n",
    "            param.requires_grad_(True)\n",
    "        \n",
    "        for param in mlpblock1.parameters():\n",
    "            param.requires_grad_(True)\n",
    "            \n",
    "        for param in mlpblock2.parameters():\n",
    "            param.requires_grad_(True)\n",
    "            \n",
    "        for param in mlpblock3.parameters():\n",
    "            param.requires_grad_(True)\n",
    "        \n",
    "        running_loss = 0.0\n",
    "        \n",
    "        for i, data in enumerate(set1_loader,0):\n",
    "            inputs, set1labels = data\n",
    "            \n",
    "            optimizer2.zero_grad()\n",
    "            \n",
    "            outputs = ensemblemodel2(inputs)\n",
    "            loss = criterion(outputs, set1labels)\n",
    "            loss.backward()\n",
    "            optimizer2.step()\n",
    "            \n",
    "            #print stats\n",
    "            running_loss += loss.item()\n",
    "            if i%2000 == 1999:\n",
    "                print('[%d,%5d] loss: %.3f' % (epoch+1, i + 1, running_loss / 2000))\n",
    "                trainingloss2.append(running_loss/2000)\n",
    "                running_loss = 0.0\n",
    "\n",
    "    running_loss2 = 0.0\n",
    "    \n",
    "    for i, data in enumerate(val_loader):\n",
    "            inputs,vallabels = data\n",
    "            outputs = ensemblemodel2(inputs)\n",
    "            lloss = criterion(outputs, vallabels)\n",
    "            \n",
    "            running_loss2 += lloss.item()\n",
    "            if i%2000 == 1999:\n",
    "                print('[%d,%5d] validation loss: %.3f' % (epoch+1, i + 1, running_loss2 / 2000))\n",
    "                validationloss2.append(running_loss2/2000)\n",
    "                running_loss2 = 0.0\n",
    "    \n",
    "    \n",
    "    \n",
    "    correct_count, all_count = 0, 0\n",
    "    for inp,labels in test_loader:\n",
    "      for i in range(len(labels)):\n",
    "        with torch.no_grad():\n",
    "            logps = ensemblemodel2(inp)\n",
    "\n",
    "    \n",
    "        ps = torch.exp(logps)\n",
    "        probab = list(ps.numpy()[0])\n",
    "        pred_label = probab.index(max(probab))\n",
    "        true_label = labels.numpy()[i]\n",
    "        if(true_label == pred_label):\n",
    "          correct_count += 1\n",
    "        all_count += 1\n",
    "\n",
    "    print(\"\\nModel Accuracy =\", (correct_count/all_count))\n",
    "    testaccuracy2.append(correct_count/all_count)                \n",
    "                \n",
    "                \n",
    "print('Finished Training')\n",
    "print(trainingloss)\n",
    "print(validationloss)\n",
    "print(testaccuracy)"
   ]
  },
  {
   "cell_type": "code",
   "execution_count": 24,
   "metadata": {},
   "outputs": [
    {
     "name": "stdout",
     "output_type": "stream",
     "text": [
      "Number Of Images Tested = 10000\n",
      "\n",
      "Model Accuracy = 0.5982\n"
     ]
    }
   ],
   "source": [
    "correct_count, all_count = 0, 0\n",
    "for inp,labels in test_loader:\n",
    "  for i in range(len(labels)):\n",
    "    with torch.no_grad():\n",
    "        logps = ensemblemodel2(inp)\n",
    "\n",
    "    \n",
    "    ps = torch.exp(logps)\n",
    "    probab = list(ps.numpy()[0])\n",
    "    pred_label = probab.index(max(probab))\n",
    "    true_label = labels.numpy()[i]\n",
    "    if(true_label == pred_label):\n",
    "      correct_count += 1\n",
    "    all_count += 1\n",
    "\n",
    "print(\"Number Of Images Tested =\", all_count)\n",
    "print(\"\\nModel Accuracy =\", (correct_count/all_count))"
   ]
  },
  {
   "cell_type": "code",
   "execution_count": 22,
   "metadata": {},
   "outputs": [
    {
     "data": {
      "image/png": "[encoded data removed]",
      "text/plain": [
       "<Figure size 432x288 with 1 Axes>"
      ]
     },
     "metadata": {
      "needs_background": "light"
     },
     "output_type": "display_data"
    }
   ],
   "source": [
    "plt.plot(trainingloss)\n",
    "plt.plot(trainingloss2)\n",
    "plt.legend([\"Alternate Freeze\", \"Control\"])\n",
    "plt.xlabel(\"2 epochs\")\n",
    "plt.ylabel(\"training loss\")\n",
    "plt.savefig('small_param_medium_set_training_loss')"
   ]
  },
  {
   "cell_type": "code",
   "execution_count": 25,
   "metadata": {},
   "outputs": [
    {
     "data": {
      "image/png": "[encoded data removed]",
      "text/plain": [
       "<Figure size 432x288 with 1 Axes>"
      ]
     },
     "metadata": {
      "needs_background": "light"
     },
     "output_type": "display_data"
    }
   ],
   "source": [
    "plt.plot(trainingloss)\n",
    "plt.savefig('true_small_param_s_m.png')"
   ]
  },
  {
   "cell_type": "code",
   "execution_count": 26,
   "metadata": {},
   "outputs": [
    {
     "data": {
      "text/plain": [
       "[<matplotlib.lines.Line2D at 0x7fbeac4cd1d0>]"
      ]
     },
     "execution_count": 26,
     "metadata": {},
     "output_type": "execute_result"
    },
    {
     "data": {
      "image/png": "[encoded data removed]",
      "text/plain": [
       "<Figure size 432x288 with 1 Axes>"
      ]
     },
     "metadata": {
      "needs_background": "light"
     },
     "output_type": "display_data"
    }
   ],
   "source": [
    "plt.plot(validationloss)"
   ]
  },
  {
   "cell_type": "code",
   "execution_count": 26,
   "metadata": {},
   "outputs": [
    {
     "data": {
      "image/png": "[encoded data removed]",
      "text/plain": [
       "<Figure size 432x288 with 1 Axes>"
      ]
     },
     "metadata": {
      "needs_background": "light"
     },
     "output_type": "display_data"
    }
   ],
   "source": [
    "plt.plot(testaccuracy)\n",
    "plt.savefig('true_small_param_m_test.png')"
   ]
  },
  {
   "cell_type": "code",
   "execution_count": 23,
   "metadata": {},
   "outputs": [
    {
     "data": {
      "image/png": "[encoded data removed]",
      "text/plain": [
       "<Figure size 432x288 with 1 Axes>"
      ]
     },
     "metadata": {
      "needs_background": "light"
     },
     "output_type": "display_data"
    }
   ],
   "source": [
    "plt.plot(testaccuracy)\n",
    "plt.plot(testaccuracy2)\n",
    "plt.legend([\"Alternate Freeze\", \"Control\"])\n",
    "plt.xlabel(\"epochs\")\n",
    "plt.ylabel(\"test accuracy\")\n",
    "plt.savefig('small_param_medium_set_test_accuracy')"
   ]
  }
 ],
 "metadata": {
  "kernelspec": {
   "display_name": "Python 3",
   "language": "python",
   "name": "python3"
  },
  "language_info": {
   "codemirror_mode": {
    "name": "ipython",
    "version": 3
   },
   "file_extension": ".py",
   "mimetype": "text/x-python",
   "name": "python",
   "nbconvert_exporter": "python",
   "pygments_lexer": "ipython3",
   "version": "3.7.6"
  }
 },
 "nbformat": 4,
 "nbformat_minor": 4
}
